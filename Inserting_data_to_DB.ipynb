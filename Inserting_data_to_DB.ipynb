{
 "cells": [
  {
   "cell_type": "code",
   "execution_count": 109,
   "id": "884f15ad",
   "metadata": {},
   "outputs": [],
   "source": [
    "import pymongo\n",
    "import json"
   ]
  },
  {
   "cell_type": "code",
   "execution_count": 110,
   "id": "b8a7c5b8",
   "metadata": {},
   "outputs": [],
   "source": [
    "myclient = pymongo.MongoClient(\"mongodb://localhost:27017/\")"
   ]
  },
  {
   "cell_type": "code",
   "execution_count": 111,
   "id": "612bd54f",
   "metadata": {},
   "outputs": [],
   "source": [
    "db = myclient.database_movie"
   ]
  },
  {
   "cell_type": "code",
   "execution_count": 112,
   "id": "ee0b84cb",
   "metadata": {},
   "outputs": [
    {
     "name": "stdout",
     "output_type": "stream",
     "text": [
      "['admin', 'config', 'local']\n"
     ]
    }
   ],
   "source": [
    "print(myclient.list_database_names())"
   ]
  },
  {
   "cell_type": "code",
   "execution_count": 113,
   "id": "ac33d0b1",
   "metadata": {},
   "outputs": [
    {
     "name": "stdout",
     "output_type": "stream",
     "text": [
      "[]\n"
     ]
    }
   ],
   "source": [
    "print(db.list_collection_names())"
   ]
  },
  {
   "cell_type": "code",
   "execution_count": 114,
   "id": "2faf44d5",
   "metadata": {},
   "outputs": [],
   "source": [
    "mycol = db[\"movieslist\"]"
   ]
  },
  {
   "cell_type": "code",
   "execution_count": 115,
   "id": "65cea4fb",
   "metadata": {},
   "outputs": [],
   "source": [
    "with open('movies_meta.json') as file:\n",
    "    file_data = json.load(file)"
   ]
  },
  {
   "cell_type": "code",
   "execution_count": 116,
   "id": "9b029900",
   "metadata": {},
   "outputs": [
    {
     "data": {
      "text/plain": [
       "45463"
      ]
     },
     "execution_count": 116,
     "metadata": {},
     "output_type": "execute_result"
    }
   ],
   "source": [
    "len_json = len(file_data)\n",
    "len_json"
   ]
  },
  {
   "cell_type": "code",
   "execution_count": 117,
   "id": "86e48611",
   "metadata": {},
   "outputs": [],
   "source": [
    "for i in range(len_json):\n",
    "    try:\n",
    "        mycol.insert_one(file_data[f\"{i}\"])\n",
    "    \n",
    "    except:\n",
    "        print(i)"
   ]
  },
  {
   "cell_type": "code",
   "execution_count": null,
   "id": "6d183f56",
   "metadata": {},
   "outputs": [],
   "source": []
  }
 ],
 "metadata": {
  "kernelspec": {
   "display_name": "Python 3 (ipykernel)",
   "language": "python",
   "name": "python3"
  },
  "language_info": {
   "codemirror_mode": {
    "name": "ipython",
    "version": 3
   },
   "file_extension": ".py",
   "mimetype": "text/x-python",
   "name": "python",
   "nbconvert_exporter": "python",
   "pygments_lexer": "ipython3",
   "version": "3.9.7"
  }
 },
 "nbformat": 4,
 "nbformat_minor": 5
}
